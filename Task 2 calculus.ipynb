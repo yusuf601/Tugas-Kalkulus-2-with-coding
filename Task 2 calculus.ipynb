{
  "nbformat": 4,
  "nbformat_minor": 0,
  "metadata": {
    "colab": {
      "provenance": [],
      "authorship_tag": "ABX9TyPZltU+LawHsXrIBafsNrp7",
      "include_colab_link": true
    },
    "kernelspec": {
      "name": "python3",
      "display_name": "Python 3"
    },
    "language_info": {
      "name": "python"
    },
    "widgets": {
      "application/vnd.jupyter.widget-state+json": {
        "3187bb1ed965493382d18446c545a5b9": {
          "model_module": "@jupyter-widgets/controls",
          "model_name": "HBoxModel",
          "model_module_version": "1.5.0",
          "state": {
            "_dom_classes": [],
            "_model_module": "@jupyter-widgets/controls",
            "_model_module_version": "1.5.0",
            "_model_name": "HBoxModel",
            "_view_count": null,
            "_view_module": "@jupyter-widgets/controls",
            "_view_module_version": "1.5.0",
            "_view_name": "HBoxView",
            "box_style": "",
            "children": [
              "IPY_MODEL_ded0ac85472f417fb1d5897bcca22afd",
              "IPY_MODEL_c59cee2fd15c453fa6b7976fb6eda2ee"
            ],
            "layout": "IPY_MODEL_cb154c5437ee41b4a20011e7bd427fcc"
          }
        },
        "ded0ac85472f417fb1d5897bcca22afd": {
          "model_module": "@jupyter-widgets/controls",
          "model_name": "FloatSliderModel",
          "model_module_version": "1.5.0",
          "state": {
            "_dom_classes": [],
            "_model_module": "@jupyter-widgets/controls",
            "_model_module_version": "1.5.0",
            "_model_name": "FloatSliderModel",
            "_view_count": null,
            "_view_module": "@jupyter-widgets/controls",
            "_view_module_version": "1.5.0",
            "_view_name": "FloatSliderView",
            "continuous_update": true,
            "description": "x_min:",
            "description_tooltip": null,
            "disabled": false,
            "layout": "IPY_MODEL_726c3f8217b04f4d99d04f071481126c",
            "max": 10,
            "min": -10,
            "orientation": "horizontal",
            "readout": true,
            "readout_format": ".2f",
            "step": 0.1,
            "style": "IPY_MODEL_9308753d85b048b28ffbfc603d90b357",
            "value": -10
          }
        },
        "c59cee2fd15c453fa6b7976fb6eda2ee": {
          "model_module": "@jupyter-widgets/controls",
          "model_name": "FloatSliderModel",
          "model_module_version": "1.5.0",
          "state": {
            "_dom_classes": [],
            "_model_module": "@jupyter-widgets/controls",
            "_model_module_version": "1.5.0",
            "_model_name": "FloatSliderModel",
            "_view_count": null,
            "_view_module": "@jupyter-widgets/controls",
            "_view_module_version": "1.5.0",
            "_view_name": "FloatSliderView",
            "continuous_update": true,
            "description": "x_max:",
            "description_tooltip": null,
            "disabled": false,
            "layout": "IPY_MODEL_50a54ef580c745d2adb4fb5aed58898d",
            "max": 100,
            "min": -10,
            "orientation": "horizontal",
            "readout": true,
            "readout_format": ".2f",
            "step": 1,
            "style": "IPY_MODEL_080fe3820c894b188f764bbe41c1d592",
            "value": 10
          }
        },
        "cb154c5437ee41b4a20011e7bd427fcc": {
          "model_module": "@jupyter-widgets/base",
          "model_name": "LayoutModel",
          "model_module_version": "1.2.0",
          "state": {
            "_model_module": "@jupyter-widgets/base",
            "_model_module_version": "1.2.0",
            "_model_name": "LayoutModel",
            "_view_count": null,
            "_view_module": "@jupyter-widgets/base",
            "_view_module_version": "1.2.0",
            "_view_name": "LayoutView",
            "align_content": null,
            "align_items": null,
            "align_self": null,
            "border": null,
            "bottom": null,
            "display": null,
            "flex": null,
            "flex_flow": null,
            "grid_area": null,
            "grid_auto_columns": null,
            "grid_auto_flow": null,
            "grid_auto_rows": null,
            "grid_column": null,
            "grid_gap": null,
            "grid_row": null,
            "grid_template_areas": null,
            "grid_template_columns": null,
            "grid_template_rows": null,
            "height": null,
            "justify_content": null,
            "justify_items": null,
            "left": null,
            "margin": null,
            "max_height": null,
            "max_width": null,
            "min_height": null,
            "min_width": null,
            "object_fit": null,
            "object_position": null,
            "order": null,
            "overflow": null,
            "overflow_x": null,
            "overflow_y": null,
            "padding": null,
            "right": null,
            "top": null,
            "visibility": null,
            "width": null
          }
        },
        "726c3f8217b04f4d99d04f071481126c": {
          "model_module": "@jupyter-widgets/base",
          "model_name": "LayoutModel",
          "model_module_version": "1.2.0",
          "state": {
            "_model_module": "@jupyter-widgets/base",
            "_model_module_version": "1.2.0",
            "_model_name": "LayoutModel",
            "_view_count": null,
            "_view_module": "@jupyter-widgets/base",
            "_view_module_version": "1.2.0",
            "_view_name": "LayoutView",
            "align_content": null,
            "align_items": null,
            "align_self": null,
            "border": null,
            "bottom": null,
            "display": null,
            "flex": null,
            "flex_flow": null,
            "grid_area": null,
            "grid_auto_columns": null,
            "grid_auto_flow": null,
            "grid_auto_rows": null,
            "grid_column": null,
            "grid_gap": null,
            "grid_row": null,
            "grid_template_areas": null,
            "grid_template_columns": null,
            "grid_template_rows": null,
            "height": null,
            "justify_content": null,
            "justify_items": null,
            "left": null,
            "margin": null,
            "max_height": null,
            "max_width": null,
            "min_height": null,
            "min_width": null,
            "object_fit": null,
            "object_position": null,
            "order": null,
            "overflow": null,
            "overflow_x": null,
            "overflow_y": null,
            "padding": null,
            "right": null,
            "top": null,
            "visibility": null,
            "width": null
          }
        },
        "9308753d85b048b28ffbfc603d90b357": {
          "model_module": "@jupyter-widgets/controls",
          "model_name": "SliderStyleModel",
          "model_module_version": "1.5.0",
          "state": {
            "_model_module": "@jupyter-widgets/controls",
            "_model_module_version": "1.5.0",
            "_model_name": "SliderStyleModel",
            "_view_count": null,
            "_view_module": "@jupyter-widgets/base",
            "_view_module_version": "1.2.0",
            "_view_name": "StyleView",
            "description_width": "",
            "handle_color": null
          }
        },
        "50a54ef580c745d2adb4fb5aed58898d": {
          "model_module": "@jupyter-widgets/base",
          "model_name": "LayoutModel",
          "model_module_version": "1.2.0",
          "state": {
            "_model_module": "@jupyter-widgets/base",
            "_model_module_version": "1.2.0",
            "_model_name": "LayoutModel",
            "_view_count": null,
            "_view_module": "@jupyter-widgets/base",
            "_view_module_version": "1.2.0",
            "_view_name": "LayoutView",
            "align_content": null,
            "align_items": null,
            "align_self": null,
            "border": null,
            "bottom": null,
            "display": null,
            "flex": null,
            "flex_flow": null,
            "grid_area": null,
            "grid_auto_columns": null,
            "grid_auto_flow": null,
            "grid_auto_rows": null,
            "grid_column": null,
            "grid_gap": null,
            "grid_row": null,
            "grid_template_areas": null,
            "grid_template_columns": null,
            "grid_template_rows": null,
            "height": null,
            "justify_content": null,
            "justify_items": null,
            "left": null,
            "margin": null,
            "max_height": null,
            "max_width": null,
            "min_height": null,
            "min_width": null,
            "object_fit": null,
            "object_position": null,
            "order": null,
            "overflow": null,
            "overflow_x": null,
            "overflow_y": null,
            "padding": null,
            "right": null,
            "top": null,
            "visibility": null,
            "width": null
          }
        },
        "080fe3820c894b188f764bbe41c1d592": {
          "model_module": "@jupyter-widgets/controls",
          "model_name": "SliderStyleModel",
          "model_module_version": "1.5.0",
          "state": {
            "_model_module": "@jupyter-widgets/controls",
            "_model_module_version": "1.5.0",
            "_model_name": "SliderStyleModel",
            "_view_count": null,
            "_view_module": "@jupyter-widgets/base",
            "_view_module_version": "1.2.0",
            "_view_name": "StyleView",
            "description_width": "",
            "handle_color": null
          }
        },
        "c69f081f1f8c46bd915b8cb839e43403": {
          "model_module": "@jupyter-widgets/output",
          "model_name": "OutputModel",
          "model_module_version": "1.0.0",
          "state": {
            "_dom_classes": [],
            "_model_module": "@jupyter-widgets/output",
            "_model_module_version": "1.0.0",
            "_model_name": "OutputModel",
            "_view_count": null,
            "_view_module": "@jupyter-widgets/output",
            "_view_module_version": "1.0.0",
            "_view_name": "OutputView",
            "layout": "IPY_MODEL_d94dbf47bf4c420aabdeab24f64c3385",
            "msg_id": "",
            "outputs": [
              {
                "output_type": "display_data",
                "data": {
                  "text/plain": "<Figure size 640x480 with 1 Axes>",
                  "image/png": "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\n"
                },
                "metadata": {}
              },
              {
                "output_type": "stream",
                "name": "stdout",
                "text": [
                  "Domain:\n",
                  "  x ∈ ℝ, x ≠ -2\n",
                  "Range:\n",
                  "  y ∈ ℝ, y ≠ 1\n"
                ]
              }
            ]
          }
        },
        "d94dbf47bf4c420aabdeab24f64c3385": {
          "model_module": "@jupyter-widgets/base",
          "model_name": "LayoutModel",
          "model_module_version": "1.2.0",
          "state": {
            "_model_module": "@jupyter-widgets/base",
            "_model_module_version": "1.2.0",
            "_model_name": "LayoutModel",
            "_view_count": null,
            "_view_module": "@jupyter-widgets/base",
            "_view_module_version": "1.2.0",
            "_view_name": "LayoutView",
            "align_content": null,
            "align_items": null,
            "align_self": null,
            "border": null,
            "bottom": null,
            "display": null,
            "flex": null,
            "flex_flow": null,
            "grid_area": null,
            "grid_auto_columns": null,
            "grid_auto_flow": null,
            "grid_auto_rows": null,
            "grid_column": null,
            "grid_gap": null,
            "grid_row": null,
            "grid_template_areas": null,
            "grid_template_columns": null,
            "grid_template_rows": null,
            "height": null,
            "justify_content": null,
            "justify_items": null,
            "left": null,
            "margin": null,
            "max_height": null,
            "max_width": null,
            "min_height": null,
            "min_width": null,
            "object_fit": null,
            "object_position": null,
            "order": null,
            "overflow": null,
            "overflow_x": null,
            "overflow_y": null,
            "padding": null,
            "right": null,
            "top": null,
            "visibility": null,
            "width": null
          }
        },
        "e10f36e7ce2c404b93c3f3ab55be4935": {
          "model_module": "@jupyter-widgets/controls",
          "model_name": "HBoxModel",
          "model_module_version": "1.5.0",
          "state": {
            "_dom_classes": [],
            "_model_module": "@jupyter-widgets/controls",
            "_model_module_version": "1.5.0",
            "_model_name": "HBoxModel",
            "_view_count": null,
            "_view_module": "@jupyter-widgets/controls",
            "_view_module_version": "1.5.0",
            "_view_name": "HBoxView",
            "box_style": "",
            "children": [
              "IPY_MODEL_5e2f243b05264b499c9d7a334e787ba3",
              "IPY_MODEL_6466495e60434f8585da0acc1590a0a0"
            ],
            "layout": "IPY_MODEL_d28d45fbd31c44cfacca2433babf80e1"
          }
        },
        "5e2f243b05264b499c9d7a334e787ba3": {
          "model_module": "@jupyter-widgets/controls",
          "model_name": "FloatSliderModel",
          "model_module_version": "1.5.0",
          "state": {
            "_dom_classes": [],
            "_model_module": "@jupyter-widgets/controls",
            "_model_module_version": "1.5.0",
            "_model_name": "FloatSliderModel",
            "_view_count": null,
            "_view_module": "@jupyter-widgets/controls",
            "_view_module_version": "1.5.0",
            "_view_name": "FloatSliderView",
            "continuous_update": true,
            "description": "x_min:",
            "description_tooltip": null,
            "disabled": false,
            "layout": "IPY_MODEL_cd592205cf764412af61f8f501b418f6",
            "max": 10,
            "min": -10,
            "orientation": "horizontal",
            "readout": true,
            "readout_format": ".2f",
            "step": 0.1,
            "style": "IPY_MODEL_f9e474f286bf45b6b95e83b6cdc29be1",
            "value": -10
          }
        },
        "6466495e60434f8585da0acc1590a0a0": {
          "model_module": "@jupyter-widgets/controls",
          "model_name": "FloatSliderModel",
          "model_module_version": "1.5.0",
          "state": {
            "_dom_classes": [],
            "_model_module": "@jupyter-widgets/controls",
            "_model_module_version": "1.5.0",
            "_model_name": "FloatSliderModel",
            "_view_count": null,
            "_view_module": "@jupyter-widgets/controls",
            "_view_module_version": "1.5.0",
            "_view_name": "FloatSliderView",
            "continuous_update": true,
            "description": "x_max:",
            "description_tooltip": null,
            "disabled": false,
            "layout": "IPY_MODEL_8e99c151009c400fbd43df8ca09a59ba",
            "max": 100,
            "min": -10,
            "orientation": "horizontal",
            "readout": true,
            "readout_format": ".2f",
            "step": 1,
            "style": "IPY_MODEL_4742a6fa0f294c68955e1929fcce3fb7",
            "value": 10
          }
        },
        "d28d45fbd31c44cfacca2433babf80e1": {
          "model_module": "@jupyter-widgets/base",
          "model_name": "LayoutModel",
          "model_module_version": "1.2.0",
          "state": {
            "_model_module": "@jupyter-widgets/base",
            "_model_module_version": "1.2.0",
            "_model_name": "LayoutModel",
            "_view_count": null,
            "_view_module": "@jupyter-widgets/base",
            "_view_module_version": "1.2.0",
            "_view_name": "LayoutView",
            "align_content": null,
            "align_items": null,
            "align_self": null,
            "border": null,
            "bottom": null,
            "display": null,
            "flex": null,
            "flex_flow": null,
            "grid_area": null,
            "grid_auto_columns": null,
            "grid_auto_flow": null,
            "grid_auto_rows": null,
            "grid_column": null,
            "grid_gap": null,
            "grid_row": null,
            "grid_template_areas": null,
            "grid_template_columns": null,
            "grid_template_rows": null,
            "height": null,
            "justify_content": null,
            "justify_items": null,
            "left": null,
            "margin": null,
            "max_height": null,
            "max_width": null,
            "min_height": null,
            "min_width": null,
            "object_fit": null,
            "object_position": null,
            "order": null,
            "overflow": null,
            "overflow_x": null,
            "overflow_y": null,
            "padding": null,
            "right": null,
            "top": null,
            "visibility": null,
            "width": null
          }
        },
        "cd592205cf764412af61f8f501b418f6": {
          "model_module": "@jupyter-widgets/base",
          "model_name": "LayoutModel",
          "model_module_version": "1.2.0",
          "state": {
            "_model_module": "@jupyter-widgets/base",
            "_model_module_version": "1.2.0",
            "_model_name": "LayoutModel",
            "_view_count": null,
            "_view_module": "@jupyter-widgets/base",
            "_view_module_version": "1.2.0",
            "_view_name": "LayoutView",
            "align_content": null,
            "align_items": null,
            "align_self": null,
            "border": null,
            "bottom": null,
            "display": null,
            "flex": null,
            "flex_flow": null,
            "grid_area": null,
            "grid_auto_columns": null,
            "grid_auto_flow": null,
            "grid_auto_rows": null,
            "grid_column": null,
            "grid_gap": null,
            "grid_row": null,
            "grid_template_areas": null,
            "grid_template_columns": null,
            "grid_template_rows": null,
            "height": null,
            "justify_content": null,
            "justify_items": null,
            "left": null,
            "margin": null,
            "max_height": null,
            "max_width": null,
            "min_height": null,
            "min_width": null,
            "object_fit": null,
            "object_position": null,
            "order": null,
            "overflow": null,
            "overflow_x": null,
            "overflow_y": null,
            "padding": null,
            "right": null,
            "top": null,
            "visibility": null,
            "width": null
          }
        },
        "f9e474f286bf45b6b95e83b6cdc29be1": {
          "model_module": "@jupyter-widgets/controls",
          "model_name": "SliderStyleModel",
          "model_module_version": "1.5.0",
          "state": {
            "_model_module": "@jupyter-widgets/controls",
            "_model_module_version": "1.5.0",
            "_model_name": "SliderStyleModel",
            "_view_count": null,
            "_view_module": "@jupyter-widgets/base",
            "_view_module_version": "1.2.0",
            "_view_name": "StyleView",
            "description_width": "",
            "handle_color": null
          }
        },
        "8e99c151009c400fbd43df8ca09a59ba": {
          "model_module": "@jupyter-widgets/base",
          "model_name": "LayoutModel",
          "model_module_version": "1.2.0",
          "state": {
            "_model_module": "@jupyter-widgets/base",
            "_model_module_version": "1.2.0",
            "_model_name": "LayoutModel",
            "_view_count": null,
            "_view_module": "@jupyter-widgets/base",
            "_view_module_version": "1.2.0",
            "_view_name": "LayoutView",
            "align_content": null,
            "align_items": null,
            "align_self": null,
            "border": null,
            "bottom": null,
            "display": null,
            "flex": null,
            "flex_flow": null,
            "grid_area": null,
            "grid_auto_columns": null,
            "grid_auto_flow": null,
            "grid_auto_rows": null,
            "grid_column": null,
            "grid_gap": null,
            "grid_row": null,
            "grid_template_areas": null,
            "grid_template_columns": null,
            "grid_template_rows": null,
            "height": null,
            "justify_content": null,
            "justify_items": null,
            "left": null,
            "margin": null,
            "max_height": null,
            "max_width": null,
            "min_height": null,
            "min_width": null,
            "object_fit": null,
            "object_position": null,
            "order": null,
            "overflow": null,
            "overflow_x": null,
            "overflow_y": null,
            "padding": null,
            "right": null,
            "top": null,
            "visibility": null,
            "width": null
          }
        },
        "4742a6fa0f294c68955e1929fcce3fb7": {
          "model_module": "@jupyter-widgets/controls",
          "model_name": "SliderStyleModel",
          "model_module_version": "1.5.0",
          "state": {
            "_model_module": "@jupyter-widgets/controls",
            "_model_module_version": "1.5.0",
            "_model_name": "SliderStyleModel",
            "_view_count": null,
            "_view_module": "@jupyter-widgets/base",
            "_view_module_version": "1.2.0",
            "_view_name": "StyleView",
            "description_width": "",
            "handle_color": null
          }
        },
        "9cbb88a5cccf4196a871470da90d29f7": {
          "model_module": "@jupyter-widgets/output",
          "model_name": "OutputModel",
          "model_module_version": "1.0.0",
          "state": {
            "_dom_classes": [],
            "_model_module": "@jupyter-widgets/output",
            "_model_module_version": "1.0.0",
            "_model_name": "OutputModel",
            "_view_count": null,
            "_view_module": "@jupyter-widgets/output",
            "_view_module_version": "1.0.0",
            "_view_name": "OutputView",
            "layout": "IPY_MODEL_40413f7695f042ef8bbf616aee9dc443",
            "msg_id": "",
            "outputs": [
              {
                "output_type": "display_data",
                "data": {
                  "text/plain": "<Figure size 640x480 with 1 Axes>",
                  "image/png": "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\n"
                },
                "metadata": {}
              },
              {
                "output_type": "stream",
                "name": "stdout",
                "text": [
                  "Domain:\n",
                  "  x ∈ ℝ\n",
                  "Range:\n",
                  "  y ∈ ℝ\n"
                ]
              }
            ]
          }
        },
        "40413f7695f042ef8bbf616aee9dc443": {
          "model_module": "@jupyter-widgets/base",
          "model_name": "LayoutModel",
          "model_module_version": "1.2.0",
          "state": {
            "_model_module": "@jupyter-widgets/base",
            "_model_module_version": "1.2.0",
            "_model_name": "LayoutModel",
            "_view_count": null,
            "_view_module": "@jupyter-widgets/base",
            "_view_module_version": "1.2.0",
            "_view_name": "LayoutView",
            "align_content": null,
            "align_items": null,
            "align_self": null,
            "border": null,
            "bottom": null,
            "display": null,
            "flex": null,
            "flex_flow": null,
            "grid_area": null,
            "grid_auto_columns": null,
            "grid_auto_flow": null,
            "grid_auto_rows": null,
            "grid_column": null,
            "grid_gap": null,
            "grid_row": null,
            "grid_template_areas": null,
            "grid_template_columns": null,
            "grid_template_rows": null,
            "height": null,
            "justify_content": null,
            "justify_items": null,
            "left": null,
            "margin": null,
            "max_height": null,
            "max_width": null,
            "min_height": null,
            "min_width": null,
            "object_fit": null,
            "object_position": null,
            "order": null,
            "overflow": null,
            "overflow_x": null,
            "overflow_y": null,
            "padding": null,
            "right": null,
            "top": null,
            "visibility": null,
            "width": null
          }
        },
        "336ea8f3f4554ef881874d077818d52b": {
          "model_module": "@jupyter-widgets/controls",
          "model_name": "HBoxModel",
          "model_module_version": "1.5.0",
          "state": {
            "_dom_classes": [],
            "_model_module": "@jupyter-widgets/controls",
            "_model_module_version": "1.5.0",
            "_model_name": "HBoxModel",
            "_view_count": null,
            "_view_module": "@jupyter-widgets/controls",
            "_view_module_version": "1.5.0",
            "_view_name": "HBoxView",
            "box_style": "",
            "children": [
              "IPY_MODEL_a47d9ad8283f4f1da169e4df97c9f5e2",
              "IPY_MODEL_18c5a4068054474cacf180c4b5b89fad"
            ],
            "layout": "IPY_MODEL_fd6d9543fc3b4dd3993e74372729461c"
          }
        },
        "a47d9ad8283f4f1da169e4df97c9f5e2": {
          "model_module": "@jupyter-widgets/controls",
          "model_name": "FloatSliderModel",
          "model_module_version": "1.5.0",
          "state": {
            "_dom_classes": [],
            "_model_module": "@jupyter-widgets/controls",
            "_model_module_version": "1.5.0",
            "_model_name": "FloatSliderModel",
            "_view_count": null,
            "_view_module": "@jupyter-widgets/controls",
            "_view_module_version": "1.5.0",
            "_view_name": "FloatSliderView",
            "continuous_update": true,
            "description": "x_min:",
            "description_tooltip": null,
            "disabled": false,
            "layout": "IPY_MODEL_f2269ff6ebbd4e88aa45f59f9d2d31f7",
            "max": 10,
            "min": -10,
            "orientation": "horizontal",
            "readout": true,
            "readout_format": ".2f",
            "step": 0.1,
            "style": "IPY_MODEL_1d6924984b964e1cbc1ba66342e11eb3",
            "value": -10
          }
        },
        "18c5a4068054474cacf180c4b5b89fad": {
          "model_module": "@jupyter-widgets/controls",
          "model_name": "FloatSliderModel",
          "model_module_version": "1.5.0",
          "state": {
            "_dom_classes": [],
            "_model_module": "@jupyter-widgets/controls",
            "_model_module_version": "1.5.0",
            "_model_name": "FloatSliderModel",
            "_view_count": null,
            "_view_module": "@jupyter-widgets/controls",
            "_view_module_version": "1.5.0",
            "_view_name": "FloatSliderView",
            "continuous_update": true,
            "description": "x_max:",
            "description_tooltip": null,
            "disabled": false,
            "layout": "IPY_MODEL_9d45fd23b8f84d3c8a06290261588357",
            "max": 100,
            "min": -10,
            "orientation": "horizontal",
            "readout": true,
            "readout_format": ".2f",
            "step": 1,
            "style": "IPY_MODEL_2cd0a36dcead460f98a5e42f12b55106",
            "value": 10
          }
        },
        "fd6d9543fc3b4dd3993e74372729461c": {
          "model_module": "@jupyter-widgets/base",
          "model_name": "LayoutModel",
          "model_module_version": "1.2.0",
          "state": {
            "_model_module": "@jupyter-widgets/base",
            "_model_module_version": "1.2.0",
            "_model_name": "LayoutModel",
            "_view_count": null,
            "_view_module": "@jupyter-widgets/base",
            "_view_module_version": "1.2.0",
            "_view_name": "LayoutView",
            "align_content": null,
            "align_items": null,
            "align_self": null,
            "border": null,
            "bottom": null,
            "display": null,
            "flex": null,
            "flex_flow": null,
            "grid_area": null,
            "grid_auto_columns": null,
            "grid_auto_flow": null,
            "grid_auto_rows": null,
            "grid_column": null,
            "grid_gap": null,
            "grid_row": null,
            "grid_template_areas": null,
            "grid_template_columns": null,
            "grid_template_rows": null,
            "height": null,
            "justify_content": null,
            "justify_items": null,
            "left": null,
            "margin": null,
            "max_height": null,
            "max_width": null,
            "min_height": null,
            "min_width": null,
            "object_fit": null,
            "object_position": null,
            "order": null,
            "overflow": null,
            "overflow_x": null,
            "overflow_y": null,
            "padding": null,
            "right": null,
            "top": null,
            "visibility": null,
            "width": null
          }
        },
        "f2269ff6ebbd4e88aa45f59f9d2d31f7": {
          "model_module": "@jupyter-widgets/base",
          "model_name": "LayoutModel",
          "model_module_version": "1.2.0",
          "state": {
            "_model_module": "@jupyter-widgets/base",
            "_model_module_version": "1.2.0",
            "_model_name": "LayoutModel",
            "_view_count": null,
            "_view_module": "@jupyter-widgets/base",
            "_view_module_version": "1.2.0",
            "_view_name": "LayoutView",
            "align_content": null,
            "align_items": null,
            "align_self": null,
            "border": null,
            "bottom": null,
            "display": null,
            "flex": null,
            "flex_flow": null,
            "grid_area": null,
            "grid_auto_columns": null,
            "grid_auto_flow": null,
            "grid_auto_rows": null,
            "grid_column": null,
            "grid_gap": null,
            "grid_row": null,
            "grid_template_areas": null,
            "grid_template_columns": null,
            "grid_template_rows": null,
            "height": null,
            "justify_content": null,
            "justify_items": null,
            "left": null,
            "margin": null,
            "max_height": null,
            "max_width": null,
            "min_height": null,
            "min_width": null,
            "object_fit": null,
            "object_position": null,
            "order": null,
            "overflow": null,
            "overflow_x": null,
            "overflow_y": null,
            "padding": null,
            "right": null,
            "top": null,
            "visibility": null,
            "width": null
          }
        },
        "1d6924984b964e1cbc1ba66342e11eb3": {
          "model_module": "@jupyter-widgets/controls",
          "model_name": "SliderStyleModel",
          "model_module_version": "1.5.0",
          "state": {
            "_model_module": "@jupyter-widgets/controls",
            "_model_module_version": "1.5.0",
            "_model_name": "SliderStyleModel",
            "_view_count": null,
            "_view_module": "@jupyter-widgets/base",
            "_view_module_version": "1.2.0",
            "_view_name": "StyleView",
            "description_width": "",
            "handle_color": null
          }
        },
        "9d45fd23b8f84d3c8a06290261588357": {
          "model_module": "@jupyter-widgets/base",
          "model_name": "LayoutModel",
          "model_module_version": "1.2.0",
          "state": {
            "_model_module": "@jupyter-widgets/base",
            "_model_module_version": "1.2.0",
            "_model_name": "LayoutModel",
            "_view_count": null,
            "_view_module": "@jupyter-widgets/base",
            "_view_module_version": "1.2.0",
            "_view_name": "LayoutView",
            "align_content": null,
            "align_items": null,
            "align_self": null,
            "border": null,
            "bottom": null,
            "display": null,
            "flex": null,
            "flex_flow": null,
            "grid_area": null,
            "grid_auto_columns": null,
            "grid_auto_flow": null,
            "grid_auto_rows": null,
            "grid_column": null,
            "grid_gap": null,
            "grid_row": null,
            "grid_template_areas": null,
            "grid_template_columns": null,
            "grid_template_rows": null,
            "height": null,
            "justify_content": null,
            "justify_items": null,
            "left": null,
            "margin": null,
            "max_height": null,
            "max_width": null,
            "min_height": null,
            "min_width": null,
            "object_fit": null,
            "object_position": null,
            "order": null,
            "overflow": null,
            "overflow_x": null,
            "overflow_y": null,
            "padding": null,
            "right": null,
            "top": null,
            "visibility": null,
            "width": null
          }
        },
        "2cd0a36dcead460f98a5e42f12b55106": {
          "model_module": "@jupyter-widgets/controls",
          "model_name": "SliderStyleModel",
          "model_module_version": "1.5.0",
          "state": {
            "_model_module": "@jupyter-widgets/controls",
            "_model_module_version": "1.5.0",
            "_model_name": "SliderStyleModel",
            "_view_count": null,
            "_view_module": "@jupyter-widgets/base",
            "_view_module_version": "1.2.0",
            "_view_name": "StyleView",
            "description_width": "",
            "handle_color": null
          }
        },
        "608ac84a079a4a41a261bfdd87ecfd50": {
          "model_module": "@jupyter-widgets/output",
          "model_name": "OutputModel",
          "model_module_version": "1.0.0",
          "state": {
            "_dom_classes": [],
            "_model_module": "@jupyter-widgets/output",
            "_model_module_version": "1.0.0",
            "_model_name": "OutputModel",
            "_view_count": null,
            "_view_module": "@jupyter-widgets/output",
            "_view_module_version": "1.0.0",
            "_view_name": "OutputView",
            "layout": "IPY_MODEL_bdd384268f24428c9a44571203a4f12e",
            "msg_id": "",
            "outputs": [
              {
                "output_type": "display_data",
                "data": {
                  "text/plain": "<Figure size 640x480 with 1 Axes>",
                  "image/png": "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\n"
                },
                "metadata": {}
              },
              {
                "output_type": "stream",
                "name": "stdout",
                "text": [
                  "Domain:\n",
                  "  x ∈ ℝ\n",
                  "Range:\n",
                  "  y ∈ (1, ∞)\n"
                ]
              }
            ]
          }
        },
        "bdd384268f24428c9a44571203a4f12e": {
          "model_module": "@jupyter-widgets/base",
          "model_name": "LayoutModel",
          "model_module_version": "1.2.0",
          "state": {
            "_model_module": "@jupyter-widgets/base",
            "_model_module_version": "1.2.0",
            "_model_name": "LayoutModel",
            "_view_count": null,
            "_view_module": "@jupyter-widgets/base",
            "_view_module_version": "1.2.0",
            "_view_name": "LayoutView",
            "align_content": null,
            "align_items": null,
            "align_self": null,
            "border": null,
            "bottom": null,
            "display": null,
            "flex": null,
            "flex_flow": null,
            "grid_area": null,
            "grid_auto_columns": null,
            "grid_auto_flow": null,
            "grid_auto_rows": null,
            "grid_column": null,
            "grid_gap": null,
            "grid_row": null,
            "grid_template_areas": null,
            "grid_template_columns": null,
            "grid_template_rows": null,
            "height": null,
            "justify_content": null,
            "justify_items": null,
            "left": null,
            "margin": null,
            "max_height": null,
            "max_width": null,
            "min_height": null,
            "min_width": null,
            "object_fit": null,
            "object_position": null,
            "order": null,
            "overflow": null,
            "overflow_x": null,
            "overflow_y": null,
            "padding": null,
            "right": null,
            "top": null,
            "visibility": null,
            "width": null
          }
        }
      }
    }
  },
  "cells": [
    {
      "cell_type": "markdown",
      "metadata": {
        "id": "view-in-github",
        "colab_type": "text"
      },
      "source": [
        "<a href=\"https://colab.research.google.com/github/yusuf601/Tugas-Kalkulus-2-with-coding/blob/main/Task%202%20calculus.ipynb\" target=\"_parent\"><img src=\"https://colab.research.google.com/assets/colab-badge.svg\" alt=\"Open In Colab\"/></a>"
      ]
    },
    {
      "cell_type": "code",
      "execution_count": 1,
      "metadata": {
        "id": "vCQZD1JvZLTL"
      },
      "outputs": [],
      "source": [
        "import numpy as np\n",
        "import matplotlib.pyplot as plt\n",
        "import ipywidgets as widgets\n",
        "from IPython.display import display"
      ]
    },
    {
      "cell_type": "code",
      "source": [
        "def plot_function(x_min, x_max):\n",
        "    x = np.linspace(x_min, x_max, 1000)\n",
        "    y = x / (x + 2)\n",
        "\n",
        "    plt.plot(x, y, label=\"x / (x + 2)\")\n",
        "    plt.title(f\"Plot Fungsi x / (x + 2) dari {x_min} sampai {x_max}\")\n",
        "    plt.xlabel(\"x\")\n",
        "    plt.ylabel(\"y\")\n",
        "    plt.grid(True)\n",
        "    plt.legend()\n",
        "    plt.show()\n",
        "\n",
        "    print(\"Domain:\")\n",
        "    print(\"  x ∈ ℝ, x ≠ -2\")\n",
        "    print(\"Range:\")\n",
        "    print(\"  y ∈ ℝ, y ≠ 1\")\n",
        "\n",
        "\n",
        "# Membuat slider untuk mengatur rentang domain\n",
        "x_min_slider = widgets.FloatSlider(value=-10, min=-10, max=10, step=0.1, description='x_min:')\n",
        "x_max_slider = widgets.FloatSlider(value=10, min=-10, max=100, step=1, description='x_max:')\n",
        "ui = widgets.HBox([x_min_slider, x_max_slider])\n",
        "plt.axhline(0, color='black',linewidth=0.5)  # Garis horizontal (sumbu x)\n",
        "plt.axvline(0, color='black',linewidth=0.5)  # Garis vertikal (sumbu y)\n",
        "\n",
        "# Menampilkan hasil plot secara interaktif\n",
        "out = widgets.interactive_output(plot_function, {'x_min': x_min_slider, 'x_max': x_max_slider})\n",
        "display(ui, out)\n"
      ],
      "metadata": {
        "colab": {
          "base_uri": "https://localhost:8080/",
          "height": 573,
          "referenced_widgets": [
            "3187bb1ed965493382d18446c545a5b9",
            "ded0ac85472f417fb1d5897bcca22afd",
            "c59cee2fd15c453fa6b7976fb6eda2ee",
            "cb154c5437ee41b4a20011e7bd427fcc",
            "726c3f8217b04f4d99d04f071481126c",
            "9308753d85b048b28ffbfc603d90b357",
            "50a54ef580c745d2adb4fb5aed58898d",
            "080fe3820c894b188f764bbe41c1d592",
            "c69f081f1f8c46bd915b8cb839e43403",
            "d94dbf47bf4c420aabdeab24f64c3385"
          ]
        },
        "id": "4pX24CJDZsnW",
        "outputId": "c35aa4e6-5b81-414c-e41e-a927419955e6"
      },
      "execution_count": 4,
      "outputs": [
        {
          "output_type": "display_data",
          "data": {
            "text/plain": [
              "HBox(children=(FloatSlider(value=-10.0, description='x_min:', max=10.0, min=-10.0), FloatSlider(value=10.0, de…"
            ],
            "application/vnd.jupyter.widget-view+json": {
              "version_major": 2,
              "version_minor": 0,
              "model_id": "3187bb1ed965493382d18446c545a5b9"
            }
          },
          "metadata": {}
        },
        {
          "output_type": "display_data",
          "data": {
            "text/plain": [
              "Output()"
            ],
            "application/vnd.jupyter.widget-view+json": {
              "version_major": 2,
              "version_minor": 0,
              "model_id": "c69f081f1f8c46bd915b8cb839e43403"
            }
          },
          "metadata": {}
        }
      ]
    },
    {
      "cell_type": "code",
      "source": [
        "def plot_function(x_min, x_max):\n",
        "    x = np.linspace(x_min, x_max, 1000)\n",
        "    y = 2 * x * np.sin(x)\n",
        "\n",
        "    plt.plot(x, y, label=\"2x * sin(x)\")\n",
        "    plt.title(f\"Plot Fungsi 2x * sin(x) dari {x_min} sampai {x_max}\")\n",
        "    plt.xlabel(\"x\")\n",
        "    plt.ylabel(\"y\")\n",
        "    plt.grid(True)\n",
        "    plt.legend()\n",
        "    plt.show()\n",
        "\n",
        "    print(\"Domain:\")\n",
        "    print(\"  x ∈ ℝ\")\n",
        "    print(\"Range:\")\n",
        "    print(\"  y ∈ ℝ\")\n",
        "\n",
        "\n",
        "# Membuat slider untuk mengatur rentang domain\n",
        "x_min_slider = widgets.FloatSlider(value=-10, min=-10, max=10, step=0.1, description='x_min:')\n",
        "x_max_slider = widgets.FloatSlider(value=10, min=-10, max=100, step=1, description='x_max:')\n",
        "ui = widgets.HBox([x_min_slider, x_max_slider])\n",
        "plt.axhline(0, color='black',linewidth=0.5)  # Garis horizontal (sumbu x)\n",
        "plt.axvline(0, color='black',linewidth=0.5)  # Garis vertikal (sumbu y)\n",
        "\n",
        "# Menampilkan hasil plot secara interaktif\n",
        "out = widgets.interactive_output(plot_function, {'x_min': x_min_slider, 'x_max': x_max_slider})\n",
        "display(ui, out)\n"
      ],
      "metadata": {
        "colab": {
          "base_uri": "https://localhost:8080/",
          "height": 573,
          "referenced_widgets": [
            "e10f36e7ce2c404b93c3f3ab55be4935",
            "5e2f243b05264b499c9d7a334e787ba3",
            "6466495e60434f8585da0acc1590a0a0",
            "d28d45fbd31c44cfacca2433babf80e1",
            "cd592205cf764412af61f8f501b418f6",
            "f9e474f286bf45b6b95e83b6cdc29be1",
            "8e99c151009c400fbd43df8ca09a59ba",
            "4742a6fa0f294c68955e1929fcce3fb7",
            "9cbb88a5cccf4196a871470da90d29f7",
            "40413f7695f042ef8bbf616aee9dc443"
          ]
        },
        "id": "dHolt9RFafzE",
        "outputId": "9bb1d5a0-3338-413d-c356-9c5b62ddb7fe"
      },
      "execution_count": 7,
      "outputs": [
        {
          "output_type": "display_data",
          "data": {
            "text/plain": [
              "HBox(children=(FloatSlider(value=-10.0, description='x_min:', max=10.0, min=-10.0), FloatSlider(value=10.0, de…"
            ],
            "application/vnd.jupyter.widget-view+json": {
              "version_major": 2,
              "version_minor": 0,
              "model_id": "e10f36e7ce2c404b93c3f3ab55be4935"
            }
          },
          "metadata": {}
        },
        {
          "output_type": "display_data",
          "data": {
            "text/plain": [
              "Output()"
            ],
            "application/vnd.jupyter.widget-view+json": {
              "version_major": 2,
              "version_minor": 0,
              "model_id": "9cbb88a5cccf4196a871470da90d29f7"
            }
          },
          "metadata": {}
        }
      ]
    },
    {
      "cell_type": "code",
      "source": [
        "def plot_function(x_min, x_max):\n",
        "    x = np.linspace(x_min, x_max, 1000)\n",
        "    y = np.exp(x) + 1\n",
        "\n",
        "    plt.plot(x, y, label=\"e^x + 1\")\n",
        "    plt.title(f\"Plot Fungsi e^x + 1 dari {x_min} sampai {x_max}\")\n",
        "\n",
        "    # Menghilangkan nilai pada sumbu x dan y\n",
        "    plt.xticks([])\n",
        "    plt.yticks([])\n",
        "\n",
        "    # Garis sumbu x dan y (koordinat kartesius)\n",
        "    plt.axhline(0, color='black',linewidth=0.5)  # Garis horizontal (sumbu x)\n",
        "    plt.axvline(0, color='black',linewidth=0.5)  # Garis vertikal (sumbu y)\n",
        "\n",
        "    plt.grid(True)\n",
        "    plt.legend()\n",
        "    plt.show()\n",
        "\n",
        "    # Menampilkan domain dan range\n",
        "    print(\"Domain:\")\n",
        "    print(\"  x ∈ ℝ\")\n",
        "    print(\"Range:\")\n",
        "    print(\"  y ∈ (1, ∞)\")\n",
        "\n",
        "\n",
        "# Membuat slider untuk mengatur rentang domain\n",
        "x_min_slider = widgets.FloatSlider(value=-10, min=-10, max=10, step=0.1, description='x_min:')\n",
        "x_max_slider = widgets.FloatSlider(value=10, min=-10, max=100, step=1, description='x_max:')\n",
        "ui = widgets.HBox([x_min_slider, x_max_slider])\n",
        "\n",
        "# Menampilkan hasil plot secara interaktif\n",
        "out = widgets.interactive_output(plot_function, {'x_min': x_min_slider, 'x_max': x_max_slider})\n",
        "display(ui, out)\n"
      ],
      "metadata": {
        "colab": {
          "base_uri": "https://localhost:8080/",
          "height": 529,
          "referenced_widgets": [
            "336ea8f3f4554ef881874d077818d52b",
            "a47d9ad8283f4f1da169e4df97c9f5e2",
            "18c5a4068054474cacf180c4b5b89fad",
            "fd6d9543fc3b4dd3993e74372729461c",
            "f2269ff6ebbd4e88aa45f59f9d2d31f7",
            "1d6924984b964e1cbc1ba66342e11eb3",
            "9d45fd23b8f84d3c8a06290261588357",
            "2cd0a36dcead460f98a5e42f12b55106",
            "608ac84a079a4a41a261bfdd87ecfd50",
            "bdd384268f24428c9a44571203a4f12e"
          ]
        },
        "id": "ngaL1cjdb7B4",
        "outputId": "4ba4aa6f-577c-4715-ddda-7b60d6e4b69d"
      },
      "execution_count": 10,
      "outputs": [
        {
          "output_type": "display_data",
          "data": {
            "text/plain": [
              "HBox(children=(FloatSlider(value=-10.0, description='x_min:', max=10.0, min=-10.0), FloatSlider(value=10.0, de…"
            ],
            "application/vnd.jupyter.widget-view+json": {
              "version_major": 2,
              "version_minor": 0,
              "model_id": "336ea8f3f4554ef881874d077818d52b"
            }
          },
          "metadata": {}
        },
        {
          "output_type": "display_data",
          "data": {
            "text/plain": [
              "Output()"
            ],
            "application/vnd.jupyter.widget-view+json": {
              "version_major": 2,
              "version_minor": 0,
              "model_id": "608ac84a079a4a41a261bfdd87ecfd50"
            }
          },
          "metadata": {}
        }
      ]
    },
    {
      "cell_type": "code",
      "source": [
        "def plot_function():\n",
        "    # Membuat rentang domain yang luas\n",
        "    x1 = np.linspace(-50, 0.99, 1000)  # Bagian kiri dari x < 1\n",
        "    x2 = np.linspace(1.01, 50, 1000)   # Bagian kanan dari x > 1\n",
        "\n",
        "    y1 = (x1 - 1) / np.sqrt((x1 - 1) * (x1 + 1))\n",
        "    y2 = (x2 - 1) / np.sqrt((x2 - 1) * (x2 + 1))\n",
        "\n",
        "    plt.plot(x1, y1, label=r\"$\\frac{x - 1}{\\sqrt{(x - 1)(x + 1)}}$ (x < 1)\")\n",
        "    plt.plot(x2, y2, label=r\"$\\frac{x - 1}{\\sqrt{(x - 1)(x + 1)}}$ (x > 1)\")\n",
        "    plt.title(\"Plot Fungsi x - 1 / sqrt((x - 1)(x + 1))\")\n",
        "    plt.xlabel(\"x\")\n",
        "    plt.ylabel(\"y\")\n",
        "\n",
        "    # Garis koordinat kartesius\n",
        "    plt.axhline(0, color='black',linewidth=0.5)\n",
        "    plt.axvline(0, color='black',linewidth=0.5)\n",
        "\n",
        "    # Membuat grid dan legend\n",
        "    plt.grid(True)\n",
        "    plt.legend()\n",
        "    plt.show()\n",
        "\n",
        "plot_function()\n"
      ],
      "metadata": {
        "colab": {
          "base_uri": "https://localhost:8080/",
          "height": 507
        },
        "id": "18GC1fTCc87e",
        "outputId": "078b6046-1b53-473f-e3dc-f0faa2b79d0a"
      },
      "execution_count": 20,
      "outputs": [
        {
          "output_type": "stream",
          "name": "stderr",
          "text": [
            "<ipython-input-20-c09fefad579e>:10: RuntimeWarning: invalid value encountered in sqrt\n",
            "  y1 = (x1 - 1) / np.sqrt((x1 - 1) * (x1 + 1))\n"
          ]
        },
        {
          "output_type": "display_data",
          "data": {
            "text/plain": [
              "<Figure size 640x480 with 1 Axes>"
            ],
            "image/png": "[encoded data removed]"
          },
          "metadata": {}
        }
      ]
    },
    {
      "cell_type": "code",
      "source": [
        "x = np.linspace(-0.99, 10, 1000)\n",
        "y = np.log(x + 1)\n",
        "plt.plot(x, y, label=\"ln(x + 1)\")\n",
        "plt.title(\"Plot Fungsi ln(x + 1)\")\n",
        "plt.xlabel(\"x\")\n",
        "plt.ylabel(\"y\")\n",
        "\n",
        "# Menambahkan grid\n",
        "plt.grid(True)\n",
        "\n",
        "# Menambahkan garis koordinat kartesius\n",
        "plt.axhline(0, color='black', linewidth=0.5)  # Garis horizontal (sumbu x)\n",
        "plt.axvline(0, color='black', linewidth=0.5)  # Garis vertikal (sumbu y)\n",
        "\n",
        "# Menambahkan angka di sumbu x dan y\n",
        "plt.xticks(np.arange(-1, 11, 1))  # Angka pada sumbu x dari -1 sampai 10\n",
        "plt.yticks(np.arange(-2, 4, 1))   # Angka pada sumbu y dari -2 sampai 3\n",
        "\n",
        "# Menambahkan legend\n",
        "plt.legend()\n",
        "\n",
        "# Tampilkan plot\n",
        "plt.show()\n",
        "\n",
        "# Menampilkan informasi domain dan range\n",
        "print(\"Domain:\")\n",
        "print(\"  x ∈ (-1, ∞)\")  # Domain fungsi ln(x + 1)\n",
        "print(\"Range:\")\n",
        "print(\"  y ∈ (-∞, ∞)\")  # Range fungsi ln(x + 1)\n"
      ],
      "metadata": {
        "colab": {
          "base_uri": "https://localhost:8080/",
          "height": 541
        },
        "id": "L4uCO4Mmes_X",
        "outputId": "4129a1c1-e058-46a6-e894-a96dc4e60dbf"
      },
      "execution_count": 18,
      "outputs": [
        {
          "output_type": "display_data",
          "data": {
            "text/plain": [
              "<Figure size 640x480 with 1 Axes>"
            ],
            "image/png": "[encoded data removed]"
          },
          "metadata": {}
        },
        {
          "output_type": "stream",
          "name": "stdout",
          "text": [
            "Domain:\n",
            "  x ∈ (-1, ∞)\n",
            "Range:\n",
            "  y ∈ (-∞, ∞)\n"
          ]
        }
      ]
    }
  ]
}